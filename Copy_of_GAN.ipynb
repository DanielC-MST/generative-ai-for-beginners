{
  "cells": [
    {
      "cell_type": "markdown",
      "metadata": {
        "id": "view-in-github",
        "colab_type": "text"
      },
      "source": [
        "<a href=\"https://colab.research.google.com/github/DanielC-MST/generative-ai-for-beginners/blob/main/Copy_of_GAN.ipynb\" target=\"_parent\"><img src=\"https://colab.research.google.com/assets/colab-badge.svg\" alt=\"Open In Colab\"/></a>"
      ]
    },
    {
      "cell_type": "markdown",
      "metadata": {
        "lines_to_next_cell": 0,
        "id": "enMYVyg399iY"
      },
      "source": [
        "```{note}\n",
        "If running in Colab, think of changing the runtime type before starting, in\n",
        "order  to have access to GPU ressources: Runtime->Change Runtime Type, then\n",
        "chose GPU for hardware accelerator.\n",
        "```\n"
      ]
    },
    {
      "cell_type": "markdown",
      "metadata": {
        "id": "btxp4h4Q99iZ"
      },
      "source": [
        "In this lab we will focus on **image synthesis**, in particular to\n",
        "synthesize **T2-weighted MRI** from **T1-weighted MRI**.\n",
        "\n",
        "We will investigate three approaches to do so:\n",
        "\n",
        "1. First, we will train a generator (or encoder-decoder).\n",
        "2. Then, we will train a conditional generative adversarial network (cGAN).\n",
        "3. Finally, we will train a cycle generative adversarial network (CycleGAN).\n",
        "\n",
        "We will evaluate the quality of the generated images using several metrics.\n",
        "\n",
        "We will use the [IXI dataset](https://brain-development.org/ixi-dataset/)\n",
        "to have access to **paired T1-w and T2-w images**.\n",
        "Before creating and training the different neural networks,\n",
        "we will:\n",
        "\n",
        "1. fetch the dataset,\n",
        "2. have a look at it to see what the task looks like, and\n",
        "3. illustrate how to easily access the data."
      ]
    },
    {
      "cell_type": "markdown",
      "metadata": {
        "id": "Bs3YJ6fQ99iZ"
      },
      "source": [
        "# 0. Fetching the dataset\n",
        "\n",
        "The dataset can be found on this\n",
        "[server](https://aramislab.paris.inria.fr/files/data/databases/DL4MI/IXI-dataset.tar.gz)\n",
        "and alternatively in the following\n",
        "[GitHub repository](https://github.com/Easternwen/IXI-dataset).\n",
        "In the `size64` folder, there are 1154 files: 2 images for 577 subjects.\n",
        "The size of each image is (64, 64).\n",
        "\n",
        "Let's download the file and have a look at the data."
      ]
    },
    {
      "cell_type": "code",
      "execution_count": null,
      "metadata": {
        "id": "Zm_Ja67y99ia",
        "outputId": "df1ceb80-4cb2-42dc-cd47-3a7a6f240f37",
        "colab": {
          "base_uri": "https://localhost:8080/"
        }
      },
      "outputs": [
        {
          "output_type": "stream",
          "name": "stdout",
          "text": [
            "Cloning into 'IXI-dataset'...\n",
            "remote: Enumerating objects: 1157, done.\u001b[K\n",
            "remote: Counting objects: 100% (1157/1157), done.\u001b[K\n",
            "remote: Compressing objects: 100% (1156/1156), done.\u001b[K\n",
            "remote: Total 1157 (delta 0), reused 1157 (delta 0), pack-reused 0 (from 0)\u001b[K\n",
            "Receiving objects: 100% (1157/1157), 24.99 MiB | 10.95 MiB/s, done.\n"
          ]
        }
      ],
      "source": [
        "# Get the dataset from the server\n",
        "! git clone https://github.com/Easternwen/IXI-dataset.git"
      ]
    },
    {
      "cell_type": "markdown",
      "metadata": {
        "id": "CWm3M0DQ99ia"
      },
      "source": [
        "The dataset used in this lab is composed of preprocessed images from the\n",
        "[IXI dataset](https://brain-development.org/ixi-dataset/). Two different\n",
        "structural MRI modalities are comprised in this dataset:\n",
        "\n",
        "- T1 weighted images\n",
        "\n",
        "- T2 weighted images\n",
        "\n",
        "These modalities do not highlight the same tissues: for example the CSF\n",
        "voxels are cancelled in T1 weighted imaging whereas they are highlighted by\n",
        "the T2 weighted imaging."
      ]
    },
    {
      "cell_type": "code",
      "execution_count": null,
      "metadata": {
        "id": "nBzkQkWw99ia",
        "outputId": "a08341b2-fc04-4189-afa5-5e28ac788fd0",
        "colab": {
          "base_uri": "https://localhost:8080/",
          "height": 458
        }
      },
      "outputs": [
        {
          "output_type": "stream",
          "name": "stderr",
          "text": [
            "<ipython-input-2-117bfebed12f>:12: FutureWarning: You are using `torch.load` with `weights_only=False` (the current default value), which uses the default pickle module implicitly. It is possible to construct malicious pickle data which will execute arbitrary code during unpickling (See https://github.com/pytorch/pytorch/blob/main/SECURITY.md#untrusted-models for more details). In a future release, the default value for `weights_only` will be flipped to `True`. This limits the functions that could be executed during unpickling. Arbitrary objects will no longer be allowed to be loaded via this mode unless they are explicitly allowlisted by the user via `torch.serialization.add_safe_globals`. We recommend you start setting `weights_only=True` for any use case where you don't have full control of the loaded file. Please open an issue on GitHub for any issues related to this experimental feature.\n",
            "  plt.imshow(np.swapaxes(torch.load(os.path.join(root, 'sub-IXI002 - T1.pt')), 0, 1),\n",
            "<ipython-input-2-117bfebed12f>:18: FutureWarning: You are using `torch.load` with `weights_only=False` (the current default value), which uses the default pickle module implicitly. It is possible to construct malicious pickle data which will execute arbitrary code during unpickling (See https://github.com/pytorch/pytorch/blob/main/SECURITY.md#untrusted-models for more details). In a future release, the default value for `weights_only` will be flipped to `True`. This limits the functions that could be executed during unpickling. Arbitrary objects will no longer be allowed to be loaded via this mode unless they are explicitly allowlisted by the user via `torch.serialization.add_safe_globals`. We recommend you start setting `weights_only=True` for any use case where you don't have full control of the loaded file. Please open an issue on GitHub for any issues related to this experimental feature.\n",
            "  plt.imshow(np.swapaxes(torch.load(os.path.join(root, 'sub-IXI002 - T2.pt')), 0, 1),\n"
          ]
        },
        {
          "output_type": "display_data",
          "data": {
            "text/plain": [
              "<Figure size 900x400 with 2 Axes>"
            ],
            "image/png": "[encoded data removed]"
          },
          "metadata": {}
        }
      ],
      "source": [
        "import matplotlib.pyplot as plt\n",
        "import numpy as np\n",
        "import os\n",
        "import torch\n",
        "\n",
        "\n",
        "root = \"./IXI-dataset/size64/\"\n",
        "\n",
        "plt.figure(figsize=(9, 4))\n",
        "\n",
        "plt.subplot(1, 2, 1)\n",
        "plt.imshow(np.swapaxes(torch.load(os.path.join(root, 'sub-IXI002 - T1.pt')), 0, 1),\n",
        "           cmap='gray', origin='lower')\n",
        "plt.title(\"T1 slice for subject 002\")\n",
        "plt.axis('off')\n",
        "\n",
        "plt.subplot(1, 2, 2)\n",
        "plt.imshow(np.swapaxes(torch.load(os.path.join(root, 'sub-IXI002 - T2.pt')), 0, 1),\n",
        "           cmap='gray', origin='lower')\n",
        "plt.title(\"T2 slice for subject 002\")\n",
        "plt.axis('off')\n",
        "plt.show()"
      ]
    },
    {
      "cell_type": "markdown",
      "metadata": {
        "id": "bDkHC_uc99ib"
      },
      "source": [
        "Let's import all the necessary packages."
      ]
    },
    {
      "cell_type": "code",
      "execution_count": null,
      "metadata": {
        "lines_to_next_cell": 1,
        "id": "i5N7TFSV99ib"
      },
      "outputs": [],
      "source": [
        "# torch stuff\n",
        "import torch\n",
        "from torch import nn\n",
        "from torch.utils.data import DataLoader\n",
        "import torch.nn.functional as F\n",
        "\n",
        "# torchsummary and torchvision\n",
        "from torchsummary import summary\n",
        "from torchvision.utils import save_image\n",
        "\n",
        "# matplotlib stuff\n",
        "import matplotlib.pyplot as plt\n",
        "import matplotlib.image as img\n",
        "\n",
        "# numpy and pandas\n",
        "import numpy as np\n",
        "import pandas as pd\n",
        "\n",
        "# Common python packages\n",
        "import datetime\n",
        "import os\n",
        "import sys\n",
        "import time"
      ]
    },
    {
      "cell_type": "markdown",
      "metadata": {
        "id": "_Kphlt3K99ib"
      },
      "source": [
        "Let's create a custom `IXIDataset` class to easily have access to the data.\n",
        "Here we don't use tsv files to split subjects between the training and the\n",
        "test set. We only set the dataset to the `train` or `test` mode to access\n",
        "training or test data."
      ]
    },
    {
      "cell_type": "code",
      "execution_count": null,
      "metadata": {
        "lines_to_next_cell": 1,
        "id": "BszA0ahh99ib"
      },
      "outputs": [],
      "source": [
        "class IXIDataset(torch.utils.data.Dataset):\n",
        "    \"\"\"Dataset utility class.\n",
        "\n",
        "    Args:\n",
        "        root: (str) Path of the folder with all the images.\n",
        "        mode : {'train' or 'test'} Part of the dataset that is loaded.\n",
        "\n",
        "    \"\"\"\n",
        "    def __init__(self, root, mode=\"train\"):\n",
        "\n",
        "        files = sorted(os.listdir(root))\n",
        "        patient_id = list(set([i.split()[0] for i in files]))\n",
        "\n",
        "        imgs = []\n",
        "\n",
        "        if mode == \"train\":\n",
        "            for i in patient_id[:int(0.8 * len(patient_id))]:\n",
        "                if (\n",
        "                    os.path.isfile(os.path.join(root, i + \" - T1.pt\")) and\n",
        "                    os.path.isfile(os.path.join(root, i + \" - T2.pt\"))\n",
        "                ):\n",
        "                    imgs.append((os.path.join(root, i + \" - T1.pt\"),\n",
        "                                 os.path.join(root, i + \" - T2.pt\")))\n",
        "\n",
        "        elif mode == \"test\":\n",
        "            for i in patient_id[int(0.8 * len(patient_id)):]:\n",
        "                if (\n",
        "                    os.path.isfile(os.path.join(root, i + \" - T1.pt\")) and\n",
        "                    os.path.isfile(os.path.join(root, i + \" - T2.pt\"))\n",
        "                ):\n",
        "                    imgs.append((os.path.join(root, i + \" - T1.pt\"),\n",
        "                                 os.path.join(root, i + \" - T2.pt\")))\n",
        "\n",
        "        self.imgs = imgs\n",
        "\n",
        "    def __getitem__(self, index):\n",
        "        t1_path, t2_path = self.imgs[index]\n",
        "\n",
        "        t1 = torch.load(t1_path)[None, :, :]\n",
        "        t2 = torch.load(t2_path)[None, :, :]\n",
        "\n",
        "        return {\"T1\": t1, \"T2\": t2}\n",
        "\n",
        "    def __len__(self):\n",
        "        return len(self.imgs)"
      ]
    },
    {
      "cell_type": "markdown",
      "metadata": {
        "id": "Dt625lfS99ib"
      },
      "source": [
        "Using this class and the `DataLoader` class from `torch.utils.data`, you can\n",
        "easily have access to your dataset. Here is a quick example on how to use it:\n",
        "\n",
        "```python\n",
        "# Create a DataLoader instance for the training set\n",
        "# You will get a batch of samples from the training set\n",
        "dataloader = DataLoader(\n",
        "    IXIDataset(root, mode=\"train\"),\n",
        "    batch_size=1,\n",
        "    shuffle=False,\n",
        ")\n",
        "\n",
        "for batch in dataloader:\n",
        "    # batch is a dictionary with two keys:\n",
        "    # - batch[\"T1\"] is a tensor with shape (batch_size, 64, 64) with the T1 images for the samples in this batch\n",
        "    # - batch[\"T2\"] is a tensor with shape (batch_size, 64, 64) with the T2 images for the samples in this batch\n",
        "```"
      ]
    },
    {
      "cell_type": "markdown",
      "metadata": {
        "id": "f72xPDGO99ib"
      },
      "source": [
        "# 1. Generator\n",
        "\n",
        "## 1.1 Architecture\n",
        "\n",
        "The generator will have a **U-Net architecture** with the following\n",
        "characteristics:\n",
        "\n",
        "* the descending blocks are convolutional layers followed by instance\n",
        "  normalization with a LeakyReLU activation function;\n",
        "\n",
        "* the ascending blocks are transposed convolutional layers followed by\n",
        "  instance normalization with a ReLU activation function.\n",
        "\n",
        "The parameters for each layer are given in the picture below."
      ]
    },
    {
      "cell_type": "markdown",
      "metadata": {
        "id": "6-4KjDgK99ib"
      },
      "source": [
        "<a href=\"https://ibb.co/QXBDNy3\">\n",
        "    <img src=\"https://i.ibb.co/g614TkL/Capture-d-cran-2020-03-02-16-04-06.png\" width=\"800\" border=\"0\">\n",
        "</a>"
      ]
    },
    {
      "cell_type": "markdown",
      "metadata": {
        "id": "pHw9hDdz99ib"
      },
      "source": [
        "\n",
        "<div class=\"alert alert-block alert-info\">\n",
        "<b>Exercise</b>: Create a <code>GeneratorUNet</code> class to define the\n",
        "generator with the architecture given above.\n",
        "</div>"
      ]
    },
    {
      "cell_type": "code",
      "execution_count": null,
      "metadata": {
        "lines_to_next_cell": 1,
        "id": "tZijZAbs99ic"
      },
      "outputs": [],
      "source": [
        "# We provide classes for each block of the U-Net.\n",
        "\n",
        "class UNetDown(nn.Module):\n",
        "    \"\"\"Descending block of the U-Net.\n",
        "\n",
        "    Args:\n",
        "        in_size: (int) number of channels in the input image.\n",
        "        out_size : (int) number of channels in the output image.\n",
        "\n",
        "    \"\"\"\n",
        "    def __init__(self, in_size, out_size):\n",
        "        super(UNetDown, self).__init__()\n",
        "        self.model = nn.Sequential(\n",
        "            nn.Conv2d(in_size, out_size, kernel_size=3, stride=2, padding=1),\n",
        "            nn.InstanceNorm2d(out_size),\n",
        "            nn.LeakyReLU(0.2)\n",
        "          )\n",
        "\n",
        "    def forward(self, x):\n",
        "        return self.model(x)\n",
        "\n",
        "\n",
        "class UNetUp(nn.Module):\n",
        "    \"\"\"Ascending block of the U-Net.\n",
        "\n",
        "    Args:\n",
        "        in_size: (int) number of channels in the input image.\n",
        "        out_size : (int) number of channels in the output image.\n",
        "\n",
        "    \"\"\"\n",
        "    def __init__(self, in_size, out_size):\n",
        "        super(UNetUp, self).__init__()\n",
        "        self.model = nn.Sequential(\n",
        "            nn.ConvTranspose2d(in_size, out_size, kernel_size=4,\n",
        "                               stride=2, padding=1),\n",
        "            nn.InstanceNorm2d(out_size),\n",
        "            nn.ReLU(inplace=True)\n",
        "        )\n",
        "\n",
        "    def forward(self, x, skip_input=None):\n",
        "        if skip_input is not None:\n",
        "            x = torch.cat((x, skip_input), 1)  # add the skip connection\n",
        "        x = self.model(x)\n",
        "        return x\n",
        "\n",
        "\n",
        "class FinalLayer(nn.Module):\n",
        "    \"\"\"Final block of the U-Net.\n",
        "\n",
        "    Args:\n",
        "        in_size: (int) number of channels in the input image.\n",
        "        out_size : (int) number of channels in the output image.\n",
        "\n",
        "    \"\"\"\n",
        "    def __init__(self, in_size, out_size):\n",
        "        super(FinalLayer, self).__init__()\n",
        "        self.model = nn.Sequential(\n",
        "            nn.Upsample(scale_factor=2),\n",
        "            nn.Conv2d(in_size, out_size, kernel_size=3, padding=1),\n",
        "            nn.Tanh(),\n",
        "        )\n",
        "\n",
        "    def forward(self, x, skip_input=None):\n",
        "        if skip_input is not None:\n",
        "            x = torch.cat((x, skip_input), 1)  # add the skip connection\n",
        "        x = self.model(x)\n",
        "        return x"
      ]
    },
    {
      "cell_type": "code",
      "execution_count": null,
      "metadata": {
        "id": "OZYCdIhM99ic",
        "outputId": "678de4b9-c8c9-4059-eae6-a13c06c132da",
        "colab": {
          "base_uri": "https://localhost:8080/",
          "height": 108
        }
      },
      "outputs": [
        {
          "output_type": "error",
          "ename": "SyntaxError",
          "evalue": "incomplete input (<ipython-input-6-7b8d0b16c0ec>, line 7)",
          "traceback": [
            "\u001b[0;36m  File \u001b[0;32m\"<ipython-input-6-7b8d0b16c0ec>\"\u001b[0;36m, line \u001b[0;32m7\u001b[0m\n\u001b[0;31m    # To complete\u001b[0m\n\u001b[0m                 ^\u001b[0m\n\u001b[0;31mSyntaxError\u001b[0m\u001b[0;31m:\u001b[0m incomplete input\n"
          ]
        }
      ],
      "source": [
        "class GeneratorUNet(nn.Module):\n",
        "    def __init__(self, in_channels=1, out_channels=1):\n",
        "        super(GeneratorUNet, self).__init__()\n",
        "        # To complete\n",
        "\n",
        "    def forward(self, x):\n",
        "        # To complete"
      ]
    },
    {
      "cell_type": "markdown",
      "metadata": {
        "id": "MWNxBe_U99ic"
      },
      "source": [
        "Let's have a look at the architecture of our generator:"
      ]
    },
    {
      "cell_type": "code",
      "execution_count": null,
      "metadata": {
        "lines_to_next_cell": 1,
        "id": "ek0LJWPs99ic",
        "outputId": "129798b5-4769-484a-f531-9c8f26841e80",
        "colab": {
          "base_uri": "https://localhost:8080/",
          "height": 162
        }
      },
      "outputs": [
        {
          "output_type": "error",
          "ename": "NameError",
          "evalue": "name 'GeneratorUNet' is not defined",
          "traceback": [
            "\u001b[0;31m---------------------------------------------------------------------------\u001b[0m",
            "\u001b[0;31mNameError\u001b[0m                                 Traceback (most recent call last)",
            "\u001b[0;32m<ipython-input-7-168110e0ff26>\u001b[0m in \u001b[0;36m<cell line: 0>\u001b[0;34m()\u001b[0m\n\u001b[1;32m      1\u001b[0m \u001b[0;31m# Summary of the generator\u001b[0m\u001b[0;34m\u001b[0m\u001b[0;34m\u001b[0m\u001b[0m\n\u001b[0;32m----> 2\u001b[0;31m \u001b[0msummary\u001b[0m\u001b[0;34m(\u001b[0m\u001b[0mGeneratorUNet\u001b[0m\u001b[0;34m(\u001b[0m\u001b[0;34m)\u001b[0m\u001b[0;34m.\u001b[0m\u001b[0mcuda\u001b[0m\u001b[0;34m(\u001b[0m\u001b[0;34m)\u001b[0m\u001b[0;34m,\u001b[0m \u001b[0;34m(\u001b[0m\u001b[0;36m1\u001b[0m\u001b[0;34m,\u001b[0m \u001b[0;36m64\u001b[0m\u001b[0;34m,\u001b[0m \u001b[0;36m64\u001b[0m\u001b[0;34m)\u001b[0m \u001b[0;34m)\u001b[0m\u001b[0;34m\u001b[0m\u001b[0;34m\u001b[0m\u001b[0m\n\u001b[0m",
            "\u001b[0;31mNameError\u001b[0m: name 'GeneratorUNet' is not defined"
          ]
        }
      ],
      "source": [
        "# Summary of the generator\n",
        "summary(GeneratorUNet().cuda(), (1, 64, 64) )"
      ]
    },
    {
      "cell_type": "markdown",
      "metadata": {
        "id": "LmPS3jES99ic"
      },
      "source": [
        "## 1.2 Train the generator\n",
        "\n",
        "In order to train the generator, we will repeat the following process:\n",
        "\n",
        "1. Generate T2-w images from T1-w images.\n",
        "2. Compute the error between the true T2-w images and the generated T2-w images.\n",
        "3. Update the parameters of the generators.\n",
        "\n",
        "The training phase looks like this:\n",
        "\n",
        "```\n",
        "# For each epoch\n",
        "\n",
        "    # For each batch\n",
        "\n",
        "        # Generate fake images for all the images in this batch\n",
        "\n",
        "        # Compute the loss for the generator\n",
        "\n",
        "        # Perform one optimization step\n",
        "```"
      ]
    },
    {
      "cell_type": "markdown",
      "metadata": {
        "id": "sw5TBjIO99ic"
      },
      "source": [
        "<div class=\"alert alert-block alert-info\">\n",
        "<b>Exercise</b>: We provide below a template to train our generator\n",
        " on the dataset. Fill in the missing parts.\n",
        "</div>"
      ]
    },
    {
      "cell_type": "code",
      "execution_count": null,
      "metadata": {
        "lines_to_next_cell": 1,
        "id": "VA921fhP99ic"
      },
      "outputs": [],
      "source": [
        "def train_generator(train_loader, test_loader, num_epoch=500,\n",
        "                    lr=0.0001, beta1=0.9, beta2=0.999):\n",
        "    \"\"\"Train a generator on its own.\n",
        "\n",
        "    Args:\n",
        "        train_loader: (DataLoader) a DataLoader wrapping the training dataset\n",
        "        test_loader: (DataLoader) a DataLoader wrapping the test dataset\n",
        "        num_epoch: (int) number of epochs performed during training\n",
        "        lr: (float) learning rate of the discriminator and generator Adam optimizers\n",
        "        beta1: (float) beta1 coefficient of the discriminator and generator Adam optimizers\n",
        "        beta2: (float) beta1 coefficient of the discriminator and generator Adam optimizers\n",
        "\n",
        "    Returns:\n",
        "        generator: (nn.Module) the trained generator\n",
        "    \"\"\"\n",
        "\n",
        "    cuda = True if torch.cuda.is_available() else False\n",
        "    print(f\"Using cuda device: {cuda}\")  # check if GPU is used\n",
        "\n",
        "    # Tensor type (put everything on GPU if possible)\n",
        "    Tensor = torch.cuda.FloatTensor if cuda else torch.FloatTensor\n",
        "\n",
        "    # Output folder\n",
        "    if not os.path.exists(\"./images/generator\"):\n",
        "        os.makedirs(\"./images/generator\")\n",
        "\n",
        "    # Loss function\n",
        "    criterion =    # To complete. A loss for a voxel-wise comparison of images like torch.nn.L1Loss\n",
        "\n",
        "    # Initialize the generator\n",
        "    generator =    # To complete.\n",
        "\n",
        "    if cuda:\n",
        "        generator = generator.cuda()\n",
        "        criterion.cuda()\n",
        "\n",
        "    # Optimizer\n",
        "    optimizer = torch.optim.Adam(generator.parameters(),\n",
        "                                 lr=lr, betas=(beta1, beta2))\n",
        "\n",
        "    def sample_images(epoch):\n",
        "        \"\"\"Saves a generated sample from the validation set\"\"\"\n",
        "        imgs = next(iter(test_loader))\n",
        "        real_A = imgs[\"T1\"].type(Tensor)\n",
        "        real_B = imgs[\"T2\"].type(Tensor)\n",
        "        fake_B = generator(real_A)\n",
        "        img_sample = torch.cat((real_A.data, fake_B.data, real_B.data), -2)\n",
        "        save_image(img_sample, f\"./images/generator/epoch-{epoch}.png\",\n",
        "                   nrow=5, normalize=True)\n",
        "\n",
        "    # ----------\n",
        "    #  Training\n",
        "    # ----------\n",
        "\n",
        "    prev_time = time.time()\n",
        "\n",
        "    for epoch in range(num_epoch):\n",
        "        for i, batch in enumerate(train_loader):\n",
        "\n",
        "            # Inputs T1-w and T2-w\n",
        "            real_t1 = batch[\"T1\"].type(Tensor)\n",
        "            real_t2 = batch[\"T2\"].type(Tensor)\n",
        "\n",
        "            # Remove stored gradients\n",
        "            optimizer.zero_grad()\n",
        "\n",
        "            # Generate fake T2 images from the true T1 images\n",
        "            fake_t2 =    # To complete\n",
        "\n",
        "            # Compute the corresponding loss\n",
        "            loss =     # To complete\n",
        "\n",
        "            # Compute the gradient and perform one optimization step\n",
        "            loss.backward()\n",
        "            optimizer.step()\n",
        "\n",
        "            # --------------\n",
        "            #  Log Progress\n",
        "            # --------------\n",
        "\n",
        "            # Determine approximate time left\n",
        "            batches_done = epoch * len(train_loader) + i\n",
        "            batches_left = num_epoch * len(train_loader) - batches_done\n",
        "            time_left = datetime.timedelta(\n",
        "                seconds=batches_left * (time.time() - prev_time))\n",
        "            prev_time = time.time()\n",
        "\n",
        "            # Print log\n",
        "            sys.stdout.write(\n",
        "                \"\\r[Epoch %d/%d] [Batch %d/%d] [Loss: %f] ETA: %s\"\n",
        "                % (\n",
        "                    epoch + 1,\n",
        "                    num_epoch,\n",
        "                    i,\n",
        "                    len(train_loader),\n",
        "                    loss.item(),\n",
        "                    time_left,\n",
        "                )\n",
        "            )\n",
        "\n",
        "        # Save images at the end of each epoch\n",
        "        sample_images(epoch)\n",
        "\n",
        "    return generator"
      ]
    },
    {
      "cell_type": "code",
      "execution_count": null,
      "metadata": {
        "tags": [
          "remove_output"
        ],
        "id": "idZgfmXj99ic"
      },
      "outputs": [],
      "source": [
        "# Parameters for Adam optimizer\n",
        "lr = 0.0002\n",
        "beta1 = 0.5\n",
        "beta2 = 0.999\n",
        "\n",
        "# Create dataloaders\n",
        "batch_size = 40\n",
        "train_loader = DataLoader(IXIDataset(root, mode=\"train\"),\n",
        "                          batch_size=batch_size,\n",
        "                          shuffle=True)\n",
        "\n",
        "test_loader = DataLoader(IXIDataset(root, mode=\"test\"),\n",
        "                         batch_size=5,\n",
        "                         shuffle=False)\n",
        "\n",
        "# Number of epochs\n",
        "num_epoch = 20\n",
        "\n",
        "# Train the generator\n",
        "generator = train_generator(train_loader, test_loader, num_epoch=num_epoch,\n",
        "                            lr=lr, beta1=beta1, beta2=beta2)"
      ]
    },
    {
      "cell_type": "markdown",
      "metadata": {
        "id": "epGywZHb99ic"
      },
      "source": [
        "## 1.3 Evaluate the generator\n",
        "\n",
        "Let's visualize a few generated T2-weighted images:"
      ]
    },
    {
      "cell_type": "code",
      "execution_count": null,
      "metadata": {
        "lines_to_next_cell": 1,
        "id": "wgKnpMN599ic"
      },
      "outputs": [],
      "source": [
        "im = img.imread(f'./images/generator/epoch-{num_epoch - 1}.png')\n",
        "plt.figure(figsize=(20, 20))\n",
        "plt.imshow(np.swapaxes(im, 0, 1))\n",
        "plt.gca().invert_yaxis()\n",
        "plt.show()"
      ]
    },
    {
      "cell_type": "markdown",
      "metadata": {
        "id": "9birkV7X99ic"
      },
      "source": [
        "After doing visual quality control, it is a good idea to quantify the quality\n",
        "of the generated images using specific metrics. Some popular metrics include\n",
        "the Mean Absolute Error (MAE), the Peak Signal-to-Noise Ratio (PSNR) and\n",
        "the Structural Similarity index (SSIM):\n",
        "\n",
        "* MAE = $\\displaystyle \\frac{1}{nm} \\sum_{i=1}^n \\sum_{j=1}^m \\vert T_{ij} - G_{ij} \\vert $\n",
        "\n",
        "* PSNR = $\\displaystyle -10 \\log_{10} \\left( \\frac{1}{nm} \\sum_{i=1}^n \\sum_{j=1}^m (T_{ij} - G_{ij})^2 \\right) $\n",
        "\n",
        "* SSIM = $\\displaystyle  \\frac{(2 \\mu_T \\mu_G + C_1)(2 \\sigma_{TG} + C_2)}{(\\mu_T^2 +\n",
        "\\mu_G^2 + C_1)(\\sigma_T^2 + \\sigma_G^2 + C_2)} $ where:\n",
        "\n",
        "    * $\\mu$ and $\\sigma$ are the mean value and standard deviation of an image respectively, and\n",
        "    * $C_1$ and $C_2$ are two positive constants (one can take $C_1=0.01$ and $C_2=0.03$).\n",
        "\n",
        "The [mean absolute error](https://en.wikipedia.org/wiki/Mean_absolute_error)\n",
        "is simply the mean of each absolute value of the difference between\n",
        "the true pixel ($T_{ij}$) and the generated pixel ($G_{ij}$).\n",
        "The lower, the better. Minimum value is 0.\n",
        "\n",
        "The [peak signal-to-noise ratio](https://en.wikipedia.org/wiki/Peak_signal-to-noise_ratio)\n",
        "is a function of the mean squared error and allows for comparing\n",
        "images encoded with different scales. We simplified its formula in our case.\n",
        "The higher, the better. Maximum value is $+\\infty$.\n",
        "\n",
        "The [structural similarity index](https://en.wikipedia.org/wiki/Structural_similarity)\n",
        "is a weighted combination of the luminance, the contrast and the structure.\n",
        "The higher, the better. Maximum value is 1.\n",
        "\n",
        "For those interested, you can find [here](https://www.pyimagesearch.com/2014/09/15/python-compare-two-images/)\n",
        "a reference to better understand the differences between these metrics.\n",
        "\n",
        "We provide an implementation for each metric with the functions below."
      ]
    },
    {
      "cell_type": "code",
      "execution_count": null,
      "metadata": {
        "lines_to_next_cell": 1,
        "id": "wNIHkRcx99ic"
      },
      "outputs": [],
      "source": [
        "def mean_absolute_error(image_true, image_generated):\n",
        "    \"\"\"Compute mean absolute error.\n",
        "\n",
        "    Args:\n",
        "        image_true: (Tensor) true image\n",
        "        image_generated: (Tensor) generated image\n",
        "\n",
        "    Returns:\n",
        "        mse: (float) mean squared error\n",
        "    \"\"\"\n",
        "    return torch.abs(image_true - image_generated).mean()\n",
        "\n",
        "\n",
        "def peak_signal_to_noise_ratio(image_true, image_generated):\n",
        "    \"\"\"\"Compute peak signal-to-noise ratio.\n",
        "\n",
        "    Args:\n",
        "        image_true: (Tensor) true image\n",
        "        image_generated: (Tensor) generated image\n",
        "\n",
        "    Returns:\n",
        "        psnr: (float) peak signal-to-noise ratio\"\"\"\n",
        "    mse = ((image_true - image_generated) ** 2).mean().cpu()\n",
        "    return -10 * np.log10(mse)\n",
        "\n",
        "\n",
        "def structural_similarity_index(image_true, image_generated, C1=0.01, C2=0.03):\n",
        "    \"\"\"Compute structural similarity index.\n",
        "\n",
        "    Args:\n",
        "        image_true: (Tensor) true image\n",
        "        image_generated: (Tensor) generated image\n",
        "        C1: (float) variable to stabilize the denominator\n",
        "        C2: (float) variable to stabilize the denominator\n",
        "\n",
        "    Returns:\n",
        "        ssim: (float) mean squared error\"\"\"\n",
        "    mean_true = image_true.mean()\n",
        "    mean_generated = image_generated.mean()\n",
        "    std_true = image_true.std()\n",
        "    std_generated = image_generated.std()\n",
        "    covariance = (\n",
        "        (image_true - mean_true) * (image_generated - mean_generated)).mean()\n",
        "\n",
        "    numerator = (2 * mean_true * mean_generated + C1) * (2 * covariance + C2)\n",
        "    denominator = ((mean_true ** 2 + mean_generated ** 2 + C1) *\n",
        "                   (std_true ** 2 + std_generated ** 2 + C2))\n",
        "    return numerator / denominator"
      ]
    },
    {
      "cell_type": "markdown",
      "metadata": {
        "id": "c6v7bxFL99ic"
      },
      "source": [
        "We will now evaluate the generator with these three metrics on both the\n",
        "training set and the test set by computing the mean value for each metric."
      ]
    },
    {
      "cell_type": "code",
      "execution_count": null,
      "metadata": {
        "lines_to_next_cell": 1,
        "id": "yFjHp4OK99id"
      },
      "outputs": [],
      "source": [
        "def evaluate_generator(generator):\n",
        "    \"\"\"Evaluate a generator.\n",
        "\n",
        "    Args:\n",
        "        generator: (GeneratorUNet) neural network generating T2-w images\n",
        "\n",
        "    \"\"\"\n",
        "    res_train, res_test = [], []\n",
        "\n",
        "    cuda = True if torch.cuda.is_available() else False\n",
        "    Tensor = torch.cuda.FloatTensor if cuda else torch.FloatTensor\n",
        "\n",
        "    with torch.no_grad():\n",
        "\n",
        "        for i, batch in enumerate(train_loader):\n",
        "\n",
        "            # Inputs T1-w and T2-w\n",
        "            real_t1 = batch[\"T1\"].type(Tensor)\n",
        "            real_t2 = batch[\"T2\"].type(Tensor)\n",
        "            fake_t2 = generator(real_t1)\n",
        "\n",
        "            mae = mean_absolute_error(real_t2, fake_t2).item()\n",
        "            psnr = peak_signal_to_noise_ratio(real_t2, fake_t2).item()\n",
        "            ssim = structural_similarity_index(real_t2, fake_t2).item()\n",
        "\n",
        "            res_train.append([mae, psnr, ssim])\n",
        "\n",
        "        for i, batch in enumerate(test_loader):\n",
        "\n",
        "            # Inputs T1-w and T2-w\n",
        "            real_t1 = batch[\"T1\"].type(Tensor)\n",
        "            real_t2 = batch[\"T2\"].type(Tensor)\n",
        "            fake_t2 = generator(real_t1)\n",
        "\n",
        "            mae = mean_absolute_error(real_t2, fake_t2).item()\n",
        "            psnr = peak_signal_to_noise_ratio(real_t2, fake_t2).item()\n",
        "            ssim = structural_similarity_index(real_t2, fake_t2).item()\n",
        "\n",
        "            res_test.append([mae, psnr, ssim])\n",
        "\n",
        "    df = pd.DataFrame([\n",
        "        pd.DataFrame(res_train, columns=['MAE', 'PSNR', 'SSIM']).mean().squeeze(),\n",
        "        pd.DataFrame(res_test, columns=['MAE', 'PSNR', 'SSIM']).mean().squeeze()\n",
        "    ], index=['Training set', 'Test set']).T\n",
        "    return df"
      ]
    },
    {
      "cell_type": "code",
      "execution_count": null,
      "metadata": {
        "lines_to_next_cell": 1,
        "id": "ujUstPxz99id"
      },
      "outputs": [],
      "source": [
        "evaluate_generator(generator)"
      ]
    },
    {
      "cell_type": "markdown",
      "metadata": {
        "id": "nJK-EA-099id"
      },
      "source": [
        "The performance is already really good! The task may be pretty easy.\n",
        "Let's see if we can still improve the performance with a more complex neural\n",
        "network."
      ]
    },
    {
      "cell_type": "markdown",
      "metadata": {
        "id": "GU5eLPsW99id"
      },
      "source": [
        "# 2. Conditional Generative Adversarial Network (cGAN)\n",
        "\n",
        "A generative adversarial network (GAN) is a network generating new samples.\n",
        "A typical GAN consists of two networks:\n",
        "\n",
        "* a **generator** that generates new samples, and\n",
        "* a **discriminator** that discriminate generated samples from true samples.\n",
        "\n",
        "One can think of the generator as a *counterfeiter* and the discriminator\n",
        "as a *authenticator*.\n",
        "The discriminator aims at improving the generator by having an opposition.\n",
        "The discriminator must not be too good, otherwise the generator won't improve.\n",
        "The generator and the discriminator are trained simultaneously and help\n",
        "each other improve.\n",
        "\n",
        "A conditional generative adversarial network (cGAN) is a particular case\n",
        "of a GAN that is conditioned by the true sample.\n",
        "A conditional GAN can thus only be used when **paired samples** are available."
      ]
    },
    {
      "cell_type": "markdown",
      "metadata": {
        "id": "vXYJAXxs99id"
      },
      "source": [
        "## 2.1 Architecture of the cGAN\n",
        "\n",
        "Like a GAN, a cGAN has two networks:\n",
        "\n",
        "* a **generator** that generates new samples, and\n",
        "\n",
        "* a **discriminator** that discriminate generated samples from true samples.\n",
        "\n",
        "We will keep the same architecture for the generator.\n",
        "\n",
        "For the discriminator we will use a **two-dimensional convolutional neural\n",
        "network** with 5 layers:\n",
        "\n",
        "* the first 4 layers are 2D-convolutional layers with  a LeakyReLU activation\n",
        "function;\n",
        "\n",
        "* the last layer is a 2D-convolutional layer.\n",
        "\n",
        "The parameters for each layer are given in the figure below. Don't forget\n",
        "that the input of the discriminator will be the generated image and the true\n",
        "image since we are using a conditional GAN. Therefore, the number of input\n",
        "channels for the first layer will be two (one for each image)."
      ]
    },
    {
      "cell_type": "markdown",
      "metadata": {
        "id": "o4dKxTZn99id"
      },
      "source": [
        "<a href=\"https://ibb.co/9b2jF0V\">\n",
        "  <img src=\"https://i.ibb.co/hBHvPNZ/Capture-d-cran-2020-03-02-16-04-14.png\" width=\"800\"  border=\"0\">\n",
        "</a>"
      ]
    },
    {
      "cell_type": "markdown",
      "metadata": {
        "id": "wPK-dKZa99id"
      },
      "source": [
        "<div class=\"alert alert-block alert-info\">\n",
        " <b>Exercise</b>: Create a <code>Discriminator</code> class to define the\n",
        " discriminator with the architecture given above.\n",
        "</div>"
      ]
    },
    {
      "cell_type": "code",
      "execution_count": null,
      "metadata": {
        "lines_to_next_cell": 2,
        "id": "k7vLmHGM99id"
      },
      "outputs": [],
      "source": [
        "# We provide a function to generate a block for the given architecture.\n",
        "def discriminator_block(in_filters, out_filters):\n",
        "    \"\"\"Return downsampling layers of each discriminator block\"\"\"\n",
        "    layers = [nn.Conv2d(in_filters, out_filters, 3, stride=2, padding=1)]\n",
        "    layers.append(nn.LeakyReLU(0.2, inplace=True))\n",
        "    return layers\n",
        "\n",
        "\n",
        "class Discriminator(nn.Module):\n",
        "    def __init__(self, in_channels=1):\n",
        "        super(Discriminator, self).__init__()\n",
        "        # To complete\n",
        "\n",
        "\n",
        "    def forward(self, img_A, img_B):\n",
        "        # Concatenate image and condition image by channels to produce input\n",
        "        # To complete"
      ]
    },
    {
      "cell_type": "markdown",
      "metadata": {
        "id": "aMI-aFoB99id"
      },
      "source": [
        "Let's have a look at the architecture of our discriminator:"
      ]
    },
    {
      "cell_type": "code",
      "execution_count": null,
      "metadata": {
        "lines_to_next_cell": 1,
        "id": "32gnDqLe99id"
      },
      "outputs": [],
      "source": [
        "# Summary of the discriminator\n",
        "summary(Discriminator().cuda(), [(1, 64, 64), (1, 64, 64)])"
      ]
    },
    {
      "cell_type": "markdown",
      "metadata": {
        "id": "zyxNGlfd99id"
      },
      "source": [
        "## 2.2 Training our conditional GAN\n",
        "\n",
        "Now that we have created our generator and our discriminator, we have to\n",
        "train them on the dataset.\n",
        "\n",
        "**Notations**\n",
        "\n",
        "* $X_{T1}$: true T1 image;\n",
        "* $X_{T2}$: true T2 image;\n",
        "* $\\tilde{X}_{T2}$: generated T2 image from $X_{T1}$;\n",
        "* $\\hat{y}_{X}$: probability returned by the discriminator that the ${X}_{T2}$ is real;\n",
        "* $\\hat{y}_{\\tilde{X}}$: probability returned by the discriminator that the $\\tilde{X}_{T2}$ is real.\n",
        "\n",
        "**Training the generator**\n",
        "\n",
        "The loss for the generator is the sum of:\n",
        "\n",
        "* the binary cross-entropy loss between the predicted probabilities of the\n",
        "generated images and positive labels,\n",
        "* the pixel-wise mean absolute error between the generated image and the true\n",
        "image.\n",
        "\n",
        "For one sample, it is then:\n",
        "\n",
        "$$\n",
        "\\ell_G = - \\log(\\hat{y}_{\\tilde{X}}) + \\lambda * \\text{MAE}(X_{T2}, \\tilde{X}_{T2})\n",
        "$$\n",
        "\n",
        "**Training the discriminator**\n",
        "\n",
        "The loss for the generator is the mean of:\n",
        "\n",
        "* the binary cross-entropy loss between the predicted probabilities of the\n",
        "generated images and negative labels,\n",
        "* the binary cross-entropy loss between the predicted probabilities\n",
        "of the true images and positive labels.\n",
        "\n",
        "For one sample, it is then:\n",
        "\n",
        "$$\n",
        "\\ell_D = - 0.5 * \\log(\\hat{y}_{X}) - 0.5 * \\log(1 - \\hat{y}_{\\tilde{X}})\n",
        "$$\n",
        "\n",
        "**Training phase**\n",
        "\n",
        "The generator and the discriminator are trained simultaneously, which makes\n",
        "the training phase look like this:\n",
        "\n",
        "```\n",
        "# For each epoch\n",
        "\n",
        "    # For each batch\n",
        "\n",
        "        # Generate fake images for all the images in this batch\n",
        "\n",
        "        # Compute the loss for the generator and perform one optimization step\n",
        "\n",
        "        # Compute the loss for the discriminator and perform one optimization step\n",
        "```"
      ]
    },
    {
      "cell_type": "markdown",
      "metadata": {
        "id": "zNlq3CCW99id"
      },
      "source": [
        "<div class=\"alert alert-block alert-info\">\n",
        "<b>Exercise</b>: We provide below a template to train our conditional GAN\n",
        " on the dataset. Fill in the missing parts.\n",
        "</div>"
      ]
    },
    {
      "cell_type": "code",
      "execution_count": null,
      "metadata": {
        "lines_to_next_cell": 1,
        "id": "uKQnq6o-99ig"
      },
      "outputs": [],
      "source": [
        "def train_cgan(train_loader, test_loader, num_epoch=500,\n",
        "               lr=0.0001, beta1=0.9, beta2=0.999):\n",
        "    \"\"\"Train a conditional GAN.\n",
        "\n",
        "    Args:\n",
        "        train_loader: (DataLoader) a DataLoader wrapping a the training dataset\n",
        "        test_loader: (DataLoader) a DataLoader wrapping a the test dataset\n",
        "        num_epoch: (int) number of epochs performed during training\n",
        "        lr: (float) learning rate of the discriminator and generator Adam optimizers\n",
        "        beta1: (float) beta1 coefficient of the discriminator and generator Adam optimizers\n",
        "        beta2: (float) beta1 coefficient of the discriminator and generator Adam optimizers\n",
        "\n",
        "    Returns:\n",
        "        generator: (nn.Module) the trained generator\n",
        "    \"\"\"\n",
        "\n",
        "    cuda = True if torch.cuda.is_available() else False\n",
        "    print(f\"Using cuda device: {cuda}\")  # check if GPU is used\n",
        "\n",
        "    # Tensor type (put everything on GPU if possible)\n",
        "    Tensor = torch.cuda.FloatTensor if cuda else torch.FloatTensor\n",
        "\n",
        "    # Output folder\n",
        "    if not os.path.exists(\"./images/cgan\"):\n",
        "        os.makedirs(\"./images/cgan\")\n",
        "\n",
        "    # Loss functions\n",
        "    criterion_GAN =    # To complete. A loss adapted to binary classification like torch.nn.BCEWithLogitsLoss\n",
        "    criterion_pixelwise =     # To complete. A loss for a voxel-wise comparison of images like torch.nn.L1Loss\n",
        "\n",
        "    lambda_GAN = 1.  # Weights criterion_GAN in the generator loss\n",
        "    lambda_pixel = 1.  # Weights criterion_pixelwise in the generator loss\n",
        "\n",
        "    # Initialize generator and discriminator\n",
        "    generator =    # To complete\n",
        "    discriminator =    # To complete\n",
        "\n",
        "    if cuda:\n",
        "        generator = generator.cuda()\n",
        "        discriminator = discriminator.cuda()\n",
        "        criterion_GAN.cuda()\n",
        "        criterion_pixelwise.cuda()\n",
        "\n",
        "    # Optimizers\n",
        "    optimizer_generator = torch.optim.Adam(\n",
        "        generator.parameters(), lr=lr, betas=(beta1, beta2))\n",
        "    optimizer_discriminator = torch.optim.Adam(\n",
        "        discriminator.parameters(), lr=lr, betas=(beta1, beta2))\n",
        "\n",
        "    def sample_images(epoch):\n",
        "        \"\"\"Saves a generated sample from the validation set\"\"\"\n",
        "        imgs = next(iter(test_loader))\n",
        "        real_t1 = imgs[\"T1\"].type(Tensor)\n",
        "        real_t2 = imgs[\"T2\"].type(Tensor)\n",
        "        fake_t2 = generator(real_t1)\n",
        "        img_sample = torch.cat((real_t1.data, fake_t2.data, real_t2.data), -2)\n",
        "        save_image(img_sample, f\"./images/cgan/epoch-{epoch}.png\",\n",
        "                   nrow=5, normalize=True)\n",
        "\n",
        "    # ----------\n",
        "    #  Training\n",
        "    # ----------\n",
        "\n",
        "    prev_time = time.time()\n",
        "\n",
        "    for epoch in range(num_epoch):\n",
        "        for i, batch in enumerate(train_loader):\n",
        "\n",
        "            # Inputs T1-w and T2-w\n",
        "            real_t1 = batch[\"T1\"].type(Tensor)\n",
        "            real_t2 = batch[\"T2\"].type(Tensor)\n",
        "\n",
        "            # Create labels\n",
        "            valid = Tensor(np.ones((real_t2.size(0), 1, 1, 1)))\n",
        "            fake = Tensor(np.zeros((real_t2.size(0), 1, 1, 1)))\n",
        "\n",
        "            # -----------------\n",
        "            #  Train Generator\n",
        "            # -----------------\n",
        "            optimizer_generator.zero_grad()\n",
        "\n",
        "            # GAN loss\n",
        "            fake_t2 =    # To complete\n",
        "            pred_fake =    # To complete\n",
        "            loss_GAN =    # To complete\n",
        "\n",
        "            # L1 loss\n",
        "            loss_pixel =    # To complete\n",
        "\n",
        "            # Total loss\n",
        "            loss_generator = lambda_GAN * loss_GAN + lambda_pixel * loss_pixel\n",
        "\n",
        "            # Compute the gradient and perform one optimization step\n",
        "            loss_generator.backward()\n",
        "            optimizer_generator.step()\n",
        "\n",
        "            # ---------------------\n",
        "            #  Train Discriminator\n",
        "            # ---------------------\n",
        "\n",
        "            optimizer_discriminator.zero_grad()\n",
        "\n",
        "            # Real loss\n",
        "            pred_real =    # To complete\n",
        "            loss_real =    # To complete\n",
        "\n",
        "            # Fake loss\n",
        "            pred_fake =    # To complete\n",
        "            loss_fake =    # To complete\n",
        "\n",
        "            # Total loss\n",
        "            loss_discriminator = 0.5 * (loss_real + loss_fake)\n",
        "\n",
        "            # Compute the gradient and perform one optimization step\n",
        "            loss_discriminator.backward()\n",
        "            optimizer_discriminator.step()\n",
        "\n",
        "            # --------------\n",
        "            #  Log Progress\n",
        "            # --------------\n",
        "\n",
        "            # Determine approximate time left\n",
        "            batches_done = epoch * len(train_loader) + i\n",
        "            batches_left = num_epoch * len(train_loader) - batches_done\n",
        "            time_left = datetime.timedelta(\n",
        "                seconds=batches_left * (time.time() - prev_time))\n",
        "            prev_time = time.time()\n",
        "\n",
        "            # Print log\n",
        "            sys.stdout.write(\n",
        "                \"\\r[Epoch %d/%d] [Batch %d/%d] [D loss: %f] \"\n",
        "                \"[G loss: %f, pixel: %f, adv: %f] ETA: %s\"\n",
        "                % (\n",
        "                    epoch + 1,\n",
        "                    num_epoch,\n",
        "                    i,\n",
        "                    len(train_loader),\n",
        "                    loss_discriminator.item(),\n",
        "                    loss_generator.item(),\n",
        "                    loss_pixel.item(),\n",
        "                    loss_GAN.item(),\n",
        "                    time_left,\n",
        "                )\n",
        "            )\n",
        "\n",
        "        # Save images at the end of each epoch\n",
        "        sample_images(epoch)\n",
        "\n",
        "    return generator"
      ]
    },
    {
      "cell_type": "code",
      "execution_count": null,
      "metadata": {
        "tags": [
          "remove_output"
        ],
        "id": "d4Zo6ubI99ih"
      },
      "outputs": [],
      "source": [
        "generator_cgan = train_cgan(train_loader, test_loader, num_epoch=num_epoch,\n",
        "                            lr=lr, beta1=beta1, beta2=beta2)"
      ]
    },
    {
      "cell_type": "markdown",
      "metadata": {
        "id": "K7e9bs9D99ih"
      },
      "source": [
        "## 2.3 Evaluating the generator of our cGAN\n",
        "\n",
        "Let's visualize a few generated T2-weighted images:"
      ]
    },
    {
      "cell_type": "code",
      "execution_count": null,
      "metadata": {
        "id": "vjeubiES99ih"
      },
      "outputs": [],
      "source": [
        "plt.figure(figsize=(20, 20))\n",
        "im = img.imread(f'./images/cgan/epoch-{num_epoch - 1}.png')\n",
        "plt.imshow(np.swapaxes(im, 0, 1))\n",
        "plt.gca().invert_yaxis()\n",
        "plt.show()"
      ]
    },
    {
      "cell_type": "markdown",
      "metadata": {
        "id": "j3Oyk-iQ99ih"
      },
      "source": [
        "We will now evaluate the generator of the cGAN with the same three metrics\n",
        "on both the training set and the test set by computing the mean value for\n",
        "each metric:"
      ]
    },
    {
      "cell_type": "code",
      "execution_count": null,
      "metadata": {
        "lines_to_next_cell": 1,
        "id": "-2LLQWgn99ih"
      },
      "outputs": [],
      "source": [
        "evaluate_generator(generator_cgan)"
      ]
    },
    {
      "cell_type": "markdown",
      "metadata": {
        "id": "Y48day4U99ih"
      },
      "source": [
        "The performance is slightly lower for the cGAN, which is a bit disappointing.\n",
        "This may be explained by the ease of the task and increase the complexity of\n",
        "the architecture does not help. Another possibility would be to increase the\n",
        "number of epochs, which we did not change in comparison to the architecture\n",
        "with the generator alone.\n",
        "\n",
        "Let's now try a more general approach that does not require paired samples."
      ]
    },
    {
      "cell_type": "markdown",
      "metadata": {
        "id": "jkqMC5-J99ih"
      },
      "source": [
        "# 3. CycleGAN\n",
        "\n",
        "A cycle generative adversarial network (CycleGAN) is a technique for training\n",
        "**unsupervised image translation** models via the GAN architecture using\n",
        "unpaired collections of images from two different domains.\n",
        "The main innovation of a CycleGAN is to introduce a\n",
        "**cycle consistency loss** to enforce good reconstruction in both domains.\n",
        "\n",
        "A CycleGAN consists of two GAN:\n",
        "\n",
        "* one generating samples from domain *A* to domain *B*, and\n",
        "\n",
        "* another one generating from domain *B* to domain *A*.\n",
        "\n",
        "The cycle consistency consists in generating from one domain to the other\n",
        "domain then generating back from the second domain to the first domain, and\n",
        "comparing the generated sample from the original sample.\n",
        "The image below (taken from the [original paper introducing CycleGAN](https://arxiv.org/pdf/1703.10593.pdf))\n",
        "summarizes the main concepts of a CycleGAN:"
      ]
    },
    {
      "cell_type": "markdown",
      "metadata": {
        "id": "_2Bsysgq99ih"
      },
      "source": [
        "<a href=\"https://ibb.co/WtS49wR\">\n",
        "   <img src=\"https://i.ibb.co/2NX12Qp/cyclegan.png\" width=\"800\" border=\"0\">\n",
        "</a>"
      ]
    },
    {
      "cell_type": "markdown",
      "metadata": {
        "id": "LvjHgVit99ih"
      },
      "source": [
        "## 3.1 Architecture of the CycleGAN\n",
        "\n",
        "The discriminators of the CycleGAN do not have the true sample as input.\n",
        "Thus, we have to remove the true sample in the `forward` method.\n",
        "\n",
        "Otherwise, we will use the same architectures for the generators and for\n",
        "the discriminators as the ones from the conditional GAN."
      ]
    },
    {
      "cell_type": "code",
      "execution_count": null,
      "metadata": {
        "lines_to_next_cell": 1,
        "id": "fCuiPof999ih"
      },
      "outputs": [],
      "source": [
        "class DiscriminatorCycle(nn.Module):\n",
        "    def __init__(self, in_channels=1):\n",
        "        super(DiscriminatorCycle, self).__init__()\n",
        "\n",
        "        layers = []\n",
        "        layers.extend(discriminator_block(in_channels, 64))\n",
        "        layers.extend(discriminator_block(64, 128))\n",
        "        layers.extend(discriminator_block(128, 256))\n",
        "        layers.extend(discriminator_block(256, 512))\n",
        "        layers.append(nn.Conv2d(512, 1, 4, padding=0))\n",
        "        self.model = nn.Sequential(*layers)\n",
        "\n",
        "    def forward(self, img):\n",
        "        return self.model(img)"
      ]
    },
    {
      "cell_type": "markdown",
      "metadata": {
        "id": "wv11Rklq99ih"
      },
      "source": [
        "Let's have a look at the architecture of one discriminator in our CycleGAN:"
      ]
    },
    {
      "cell_type": "code",
      "execution_count": null,
      "metadata": {
        "lines_to_next_cell": 1,
        "id": "7sfgqrRz99ih"
      },
      "outputs": [],
      "source": [
        "# Summary of one discriminator in the CycleGAN\n",
        "summary(DiscriminatorCycle().cuda(), [(1, 64, 64)])"
      ]
    },
    {
      "cell_type": "markdown",
      "metadata": {
        "id": "vqhnvPLb99ih"
      },
      "source": [
        "## 3.2 Training the CycleGAN\n",
        "\n",
        "The generators and the discriminators are trained simultaneously, which makes\n",
        "the training phase look like this:\n",
        "\n",
        "```\n",
        "# For each epoch\n",
        "\n",
        "    # For each batch\n",
        "\n",
        "        # T1 -> T2 -> T1 cycle\n",
        "\n",
        "        ## Generate fake T2-weighted images for all the T1-weighted images in this batch\n",
        "\n",
        "        ## Generate fake T1-weighted images for all the fake generated T2-weighted images in this batch\n",
        "\n",
        "        ## Compute the loss for both generators and perform one optimization step\n",
        "\n",
        "        ## Compute the loss for both discriminators and perform one optimization step\n",
        "\n",
        "        # T2 -> T1 -> T2 cycle\n",
        "\n",
        "        ## Generate fake T1-weighted images for all the T2-weighted images in this batch\n",
        "\n",
        "        ## Generate fake T2-weighted images for all the fake generated T1-weighted images in this batch\n",
        "\n",
        "        ## Compute the loss for both generators and perform one optimization step\n",
        "\n",
        "        ## Compute the loss for both discriminators and perform one optimization step\n",
        "```"
      ]
    },
    {
      "cell_type": "markdown",
      "metadata": {
        "id": "PbU65QAk99ih"
      },
      "source": [
        "<div class=\"alert alert-block alert-info\">\n",
        "<b>Exercise</b>: We provide below a template to train our cycle GAN\n",
        " on the dataset. Fill in the missing parts.\n",
        "</div>"
      ]
    },
    {
      "cell_type": "code",
      "execution_count": null,
      "metadata": {
        "lines_to_next_cell": 1,
        "id": "XUuDzp3A99ih"
      },
      "outputs": [],
      "source": [
        "def train_cyclegan(train_loader, test_loader, num_epoch=500,\n",
        "                   lr=0.0001, beta1=0.9, beta2=0.999):\n",
        "    \"\"\"Train a CycleGAN.\n",
        "\n",
        "    Args:\n",
        "        train_loader: (DataLoader) a DataLoader wrapping a the training dataset\n",
        "        test_loader: (DataLoader) a DataLoader wrapping a the test dataset\n",
        "        num_epoch: (int) number of epochs performed during training\n",
        "        lr: (float) learning rate of the discriminator and generator Adam optimizers\n",
        "        beta1: (float) beta1 coefficient of the discriminator and generator Adam optimizers\n",
        "        beta2: (float) beta1 coefficient of the discriminator and generator Adam optimizers\n",
        "\n",
        "    Returns:\n",
        "        generator: (nn.Module) the generator generating T2-w images from T1-w images.\n",
        "    \"\"\"\n",
        "\n",
        "    cuda = True if torch.cuda.is_available() else False\n",
        "    print(f\"Using cuda device: {cuda}\")  # check if GPU is used\n",
        "\n",
        "    # Tensor type (put everything on GPU if possible)\n",
        "    Tensor = torch.cuda.FloatTensor if cuda else torch.FloatTensor\n",
        "\n",
        "    # Output folder\n",
        "    if not os.path.exists(\"./images/cyclegan\"):\n",
        "        os.makedirs(\"./images/cyclegan\")\n",
        "\n",
        "    # Loss functions\n",
        "    criterion_GAN_from_t1_to_t2 = torch.nn.BCEWithLogitsLoss()  # A loss adapted to binary classification like torch.nn.BCEWithLogitsLoss\n",
        "    criterion_GAN_from_t2_to_t1 = torch.nn.BCEWithLogitsLoss()  # A loss adapted to binary classification like torch.nn.BCEWithLogitsLoss\n",
        "    criterion_pixelwise_from_t1_to_t2 = torch.nn.L1Loss()  # A loss for a voxel-wise comparison of images like torch.nn.L1Loss\n",
        "    criterion_pixelwise_from_t2_to_t1 = torch.nn.L1Loss()  # A loss for a voxel-wise comparison of images like torch.nn.L1Loss\n",
        "\n",
        "    lambda_GAN = 1.  # Weights criterion_GAN in the generator loss\n",
        "    lambda_pixel = 1.  # Weights criterion_pixelwise in the generator loss\n",
        "\n",
        "    # Initialize generators and discriminators\n",
        "    generator_from_t1_to_t2 =    # To complete\n",
        "    generator_from_t2_to_t1 =    # To complete\n",
        "    discriminator_from_t1_to_t2 =    # To complete\n",
        "    discriminator_from_t2_to_t1 =    # To complete\n",
        "\n",
        "    if cuda:\n",
        "        generator_from_t1_to_t2 = generator_from_t1_to_t2.cuda()\n",
        "        generator_from_t2_to_t1 = generator_from_t2_to_t1.cuda()\n",
        "\n",
        "        discriminator_from_t1_to_t2 = discriminator_from_t1_to_t2.cuda()\n",
        "        discriminator_from_t2_to_t1 = discriminator_from_t2_to_t1.cuda()\n",
        "\n",
        "        criterion_GAN_from_t1_to_t2 = criterion_GAN_from_t1_to_t2.cuda()\n",
        "        criterion_GAN_from_t2_to_t1 = criterion_GAN_from_t2_to_t1.cuda()\n",
        "\n",
        "        criterion_pixelwise_from_t1_to_t2 = criterion_pixelwise_from_t1_to_t2.cuda()\n",
        "        criterion_pixelwise_from_t2_to_t1 = criterion_pixelwise_from_t2_to_t1.cuda()\n",
        "\n",
        "    # Optimizers\n",
        "    optimizer_generator_from_t1_to_t2 = torch.optim.Adam(\n",
        "        generator_from_t1_to_t2.parameters(), lr=lr, betas=(beta1, beta2))\n",
        "    optimizer_generator_from_t2_to_t1 = torch.optim.Adam(\n",
        "        generator_from_t2_to_t1.parameters(), lr=lr, betas=(beta1, beta2))\n",
        "\n",
        "    optimizer_discriminator_from_t1_to_t2 = torch.optim.Adam(\n",
        "        discriminator_from_t1_to_t2.parameters(), lr=lr, betas=(beta1, beta2))\n",
        "    optimizer_discriminator_from_t2_to_t1 = torch.optim.Adam(\n",
        "        discriminator_from_t2_to_t1.parameters(), lr=lr, betas=(beta1, beta2))\n",
        "\n",
        "    def sample_images(epoch):\n",
        "        \"\"\"Saves a generated sample from the validation set\"\"\"\n",
        "        imgs = next(iter(test_loader))\n",
        "        real_t1 = imgs[\"T1\"].type(Tensor)\n",
        "        real_t2 = imgs[\"T2\"].type(Tensor)\n",
        "        fake_t2 = generator_from_t1_to_t2(real_t1)\n",
        "        img_sample = torch.cat((real_t1.data, fake_t2.data, real_t2.data), -2)\n",
        "        save_image(img_sample, f\"./images/cyclegan/epoch-{epoch}.png\",\n",
        "                   nrow=5, normalize=True)\n",
        "\n",
        "    # ----------\n",
        "    #  Training\n",
        "    # ----------\n",
        "\n",
        "    prev_time = time.time()\n",
        "\n",
        "    for epoch in range(num_epoch):\n",
        "        for i, batch in enumerate(train_loader):\n",
        "\n",
        "            # Inputs T1-w and T2-w\n",
        "            real_t1 = batch[\"T1\"].type(Tensor)\n",
        "            real_t2 = batch[\"T2\"].type(Tensor)\n",
        "\n",
        "            # Create labels\n",
        "            valid_t1 = Tensor(np.ones((real_t1.size(0), 1, 1, 1)))\n",
        "            imitation_t1 = Tensor(np.zeros((real_t1.size(0), 1, 1, 1)))\n",
        "\n",
        "            valid_t2 = Tensor(np.ones((real_t2.size(0), 1, 1, 1)))\n",
        "            imitation_t2 = Tensor(np.zeros((real_t2.size(0), 1, 1, 1)))\n",
        "\n",
        "            # ------------------\n",
        "            #  Train Generators\n",
        "            # ------------------\n",
        "            optimizer_generator_from_t1_to_t2.zero_grad()\n",
        "            optimizer_generator_from_t2_to_t1.zero_grad()\n",
        "\n",
        "            # GAN loss\n",
        "            fake_t2 =    # To complete\n",
        "            pred_fake_t2 =    # To complete\n",
        "            loss_GAN_from_t1_to_t2 =    # To complete\n",
        "\n",
        "            fake_t1 =    # To complete\n",
        "            pred_fake_t1 =    # To complete\n",
        "            loss_GAN_from_t2_to_t1 =    # To complete\n",
        "\n",
        "            # L1 loss\n",
        "            fake_fake_t1 =    # To complete\n",
        "            loss_pixel_from_t1_to_t2 =    # To complete\n",
        "\n",
        "            fake_fake_t2 =    # To complete\n",
        "            loss_pixel_from_t2_to_t1 =    # To complete\n",
        "\n",
        "            # Total loss\n",
        "            loss_generator_from_t1_to_t2 = (lambda_GAN * loss_GAN_from_t1_to_t2 +\n",
        "                                            lambda_pixel * loss_pixel_from_t1_to_t2)\n",
        "            loss_generator_from_t2_to_t1 = (lambda_GAN * loss_GAN_from_t2_to_t1 +\n",
        "                                            lambda_pixel * loss_pixel_from_t2_to_t1)\n",
        "\n",
        "            loss_generator_from_t1_to_t2.backward()\n",
        "            loss_generator_from_t2_to_t1.backward()\n",
        "\n",
        "            optimizer_generator_from_t1_to_t2.step()\n",
        "            optimizer_generator_from_t2_to_t1.step()\n",
        "\n",
        "            # ---------------------\n",
        "            #  Train Discriminator\n",
        "            # ---------------------\n",
        "\n",
        "            optimizer_discriminator_from_t1_to_t2.zero_grad()\n",
        "            optimizer_discriminator_from_t2_to_t1.zero_grad()\n",
        "\n",
        "            # Real loss\n",
        "            pred_real_t2 =    # To complete\n",
        "            loss_real_t2 =    # To complete\n",
        "\n",
        "            pred_real_t1 =    # To complete\n",
        "            loss_real_t1 =    # To complete\n",
        "\n",
        "            # Fake loss\n",
        "            pred_fake_t2 =    # To complete\n",
        "            loss_fake_t2 =    # To complete\n",
        "\n",
        "            pred_fake_t1 =    # To complete\n",
        "            loss_fake_t1 =    # To complete\n",
        "\n",
        "            # Total loss\n",
        "            loss_discriminator_from_t1_to_t2 = 0.5 * (loss_real_t2 + loss_fake_t2)\n",
        "            loss_discriminator_from_t2_to_t1 = 0.5 * (loss_real_t1 + loss_fake_t1)\n",
        "\n",
        "            loss_discriminator_from_t1_to_t2.backward()\n",
        "            loss_discriminator_from_t2_to_t1.backward()\n",
        "\n",
        "            optimizer_discriminator_from_t1_to_t2.step()\n",
        "            optimizer_discriminator_from_t2_to_t1.step()\n",
        "\n",
        "            # --------------\n",
        "            #  Log Progress\n",
        "            # --------------\n",
        "\n",
        "            # Determine approximate time left\n",
        "            batches_done = epoch * len(train_loader) + i\n",
        "            batches_left = num_epoch * len(train_loader) - batches_done\n",
        "            time_left = datetime.timedelta(\n",
        "                seconds=batches_left * (time.time() - prev_time))\n",
        "            prev_time = time.time()\n",
        "\n",
        "            # Print log\n",
        "            sys.stdout.write(\n",
        "                \"\\r[Epoch %d/%d] [Batch %d/%d] \"\n",
        "                \"[Generator losses: %f, %f] \"\n",
        "                \"[Discriminator losses: %f, %f] \"\n",
        "                \"ETA: %s\"\n",
        "                % (\n",
        "                    epoch + 1,\n",
        "                    num_epoch,\n",
        "                    i,\n",
        "                    len(train_loader),\n",
        "                    loss_generator_from_t1_to_t2.item(),\n",
        "                    loss_generator_from_t2_to_t1.item(),\n",
        "                    loss_discriminator_from_t1_to_t2.item(),\n",
        "                    loss_discriminator_from_t2_to_t1.item(),\n",
        "                    time_left,\n",
        "                )\n",
        "            )\n",
        "\n",
        "        # Save images at the end of each epoch\n",
        "        sample_images(epoch)\n",
        "\n",
        "    return generator_from_t1_to_t2"
      ]
    },
    {
      "cell_type": "code",
      "execution_count": null,
      "metadata": {
        "tags": [
          "remove_output"
        ],
        "id": "wLkABQu_99ii"
      },
      "outputs": [],
      "source": [
        "generator_cyclegan = train_cyclegan(\n",
        "    train_loader, test_loader, num_epoch=num_epoch,\n",
        "    lr=lr, beta1=beta1, beta2=beta2\n",
        ")"
      ]
    },
    {
      "cell_type": "markdown",
      "metadata": {
        "id": "lTDBLXzp99ii"
      },
      "source": [
        "## 3.3 Evaluating the generator of our CycleGAN\n",
        "\n",
        "Let's visualize a few generated T2-weighted images:"
      ]
    },
    {
      "cell_type": "code",
      "execution_count": null,
      "metadata": {
        "id": "EecuQbXu99ii"
      },
      "outputs": [],
      "source": [
        "plt.figure(figsize=(20, 20))\n",
        "im = img.imread(f'./images/cyclegan/epoch-{num_epoch - 1}.png')\n",
        "plt.imshow(np.swapaxes(im, 0, 1))\n",
        "plt.gca().invert_yaxis()\n",
        "plt.show()"
      ]
    },
    {
      "cell_type": "markdown",
      "metadata": {
        "id": "wVxqpOsX99ii"
      },
      "source": [
        "We will now evaluate the generator of the CycleGAN with the same three\n",
        "metrics on both the training set and the test set by computing the mean value\n",
        "for each metric."
      ]
    },
    {
      "cell_type": "code",
      "execution_count": null,
      "metadata": {
        "id": "620zmWO899ii"
      },
      "outputs": [],
      "source": [
        "evaluate_generator(generator_cyclegan)"
      ]
    },
    {
      "cell_type": "markdown",
      "metadata": {
        "id": "CaMCwBst99ii"
      },
      "source": [
        "You should obtain a lower performance for the CycleGAN, which is not so\n",
        "surprising since this task is unsupervised whereas the two other tasks are\n",
        "supervised.\n",
        "\n",
        "It does not mean that cycle GAN are not useful in practice.\n",
        "Datasets of unpaired samples are much more common than datasets of paired\n",
        "samples. Here is an example of transforming a picture into a painting from\n",
        "a famous painter using a CycleGAN\n",
        "(taken from the [original paper introducing CycleGAN](https://arxiv.org/pdf/1703.10593.pdf)):"
      ]
    },
    {
      "cell_type": "markdown",
      "metadata": {
        "id": "5yuACtL699ii"
      },
      "source": [
        "<a href=\"https://ibb.co/Q8FrRrd\">\n",
        "  <img src=\"https://i.ibb.co/6vRgxgB/style-transfer.png\" width=\"800\" border=\"0\">\n",
        "</a>"
      ]
    }
  ],
  "metadata": {
    "jupytext": {
      "cell_metadata_json": true,
      "main_language": "python"
    },
    "kernelspec": {
      "display_name": "Python 3",
      "name": "python3"
    },
    "colab": {
      "provenance": [],
      "include_colab_link": true
    }
  },
  "nbformat": 4,
  "nbformat_minor": 0
}